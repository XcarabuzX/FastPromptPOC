{
 "cells": [
  {
   "cell_type": "code",
   "execution_count": 2,
   "id": "0bac05f5-cdf6-4295-bbed-ade529b28462",
   "metadata": {},
   "outputs": [],
   "source": [
    "#Importar librerías\n",
    "import pandas as pd\n",
    "import os\n",
    "from dotenv import load_dotenv\n",
    "import google.generativeai as genai\n",
    "\n",
    "\n",
    "load_dotenv()\n",
    "# 🔐 Cargar API key\n",
    "api_key = os.getenv(\"GEMINI_API_KEY\")\n",
    "\n",
    "# 🧠 Configurar Gemini\n",
    "genai.configure(api_key=api_key)"
   ]
  },
  {
   "cell_type": "code",
   "execution_count": 3,
   "id": "f5c1823e-fa7b-47be-98b6-e9e0a4e3c583",
   "metadata": {
    "scrolled": true
   },
   "outputs": [
    {
     "data": {
      "text/html": [
       "<div>\n",
       "<style scoped>\n",
       "    .dataframe tbody tr th:only-of-type {\n",
       "        vertical-align: middle;\n",
       "    }\n",
       "\n",
       "    .dataframe tbody tr th {\n",
       "        vertical-align: top;\n",
       "    }\n",
       "\n",
       "    .dataframe thead th {\n",
       "        text-align: right;\n",
       "    }\n",
       "</style>\n",
       "<table border=\"1\" class=\"dataframe\">\n",
       "  <thead>\n",
       "    <tr style=\"text-align: right;\">\n",
       "      <th></th>\n",
       "      <th>nombre</th>\n",
       "      <th>destinos</th>\n",
       "      <th>temporada</th>\n",
       "      <th>presupuesto</th>\n",
       "    </tr>\n",
       "  </thead>\n",
       "  <tbody>\n",
       "    <tr>\n",
       "      <th>0</th>\n",
       "      <td>Ana</td>\n",
       "      <td>[Madrid, Barcelona]</td>\n",
       "      <td>verano</td>\n",
       "      <td>800</td>\n",
       "    </tr>\n",
       "    <tr>\n",
       "      <th>1</th>\n",
       "      <td>Luis</td>\n",
       "      <td>[Cancún]</td>\n",
       "      <td>invierno</td>\n",
       "      <td>600</td>\n",
       "    </tr>\n",
       "    <tr>\n",
       "      <th>2</th>\n",
       "      <td>Sofía</td>\n",
       "      <td>[Roma, París]</td>\n",
       "      <td>primavera</td>\n",
       "      <td>950</td>\n",
       "    </tr>\n",
       "    <tr>\n",
       "      <th>3</th>\n",
       "      <td>Carlos</td>\n",
       "      <td>[Tokio, Seúl]</td>\n",
       "      <td>otoño</td>\n",
       "      <td>1200</td>\n",
       "    </tr>\n",
       "  </tbody>\n",
       "</table>\n",
       "</div>"
      ],
      "text/plain": [
       "   nombre             destinos  temporada  presupuesto\n",
       "0     Ana  [Madrid, Barcelona]     verano          800\n",
       "1    Luis             [Cancún]   invierno          600\n",
       "2   Sofía        [Roma, París]  primavera          950\n",
       "3  Carlos        [Tokio, Seúl]      otoño         1200"
      ]
     },
     "execution_count": 3,
     "metadata": {},
     "output_type": "execute_result"
    }
   ],
   "source": [
    "# Datos simulados de usuarios frecuentes\n",
    "usuarios = pd.DataFrame([\n",
    "    {\"nombre\": \"Ana\", \"destinos\": [\"Madrid\", \"Barcelona\"], \"temporada\": \"verano\", \"presupuesto\": 800},\n",
    "    {\"nombre\": \"Luis\", \"destinos\": [\"Cancún\"], \"temporada\": \"invierno\", \"presupuesto\": 600},\n",
    "    {\"nombre\": \"Sofía\", \"destinos\": [\"Roma\", \"París\"], \"temporada\": \"primavera\", \"presupuesto\": 950},\n",
    "    {\"nombre\": \"Carlos\", \"destinos\": [\"Tokio\", \"Seúl\"], \"temporada\": \"otoño\", \"presupuesto\": 1200},\n",
    "])\n",
    "usuarios"
   ]
  },
  {
   "cell_type": "code",
   "execution_count": 4,
   "id": "9f262a1e-3ed5-434d-b0ff-6c5c08dcf29c",
   "metadata": {},
   "outputs": [],
   "source": [
    "# Función de generación de contenido con Gemini\n",
    "def consulta_gemini(prompt, model_name='gemini-2.5-flash'):\n",
    "    model = genai.GenerativeModel(model_name)\n",
    "    response = model.generate_content(prompt)\n",
    "    return response.text"
   ]
  },
  {
   "cell_type": "code",
   "execution_count": 5,
   "id": "5ae2af4e-840e-4528-a808-2410900db777",
   "metadata": {
    "collapsed": true,
    "jupyter": {
     "outputs_hidden": true
    },
    "scrolled": true
   },
   "outputs": [
    {
     "name": "stdout",
     "output_type": "stream",
     "text": [
      "Vamos a segmentar a los usuarios en grupos según sus hábitos de viaje, identificando las características principales de cada uno:\n",
      "\n",
      "---\n",
      "\n",
      "### **Grupo 1: El Buscador de Sol y Playa / Escape Invernal**\n",
      "\n",
      "*   **Usuario:** Luis\n",
      "*   **Características:**\n",
      "    *   **Destinos:** Prefiere destinos de playa y relajación, generalmente internacionales.\n",
      "    *   **Temporada:** Viaja en invierno, probablemente buscando escapar del frío y disfrutar de climas cálidos.\n",
      "    *   **Presupuesto:** Moderado a económico, lo que sugiere que valora la relación calidad-precio en su destino principal de relajación.\n",
      "    *   **Tipo de Viaje:** Un solo destino, enfocado en el ocio y el descanso.\n",
      "\n",
      "---\n",
      "\n",
      "### **Grupo 2: Los Exploradores Urbanos Europeos / Viajeros de City Break**\n",
      "\n",
      "*   **Usuarios:** Ana, Sofía\n",
      "*   **Características:**\n",
      "    *   **Destinos:** Se inclinan por ciudades culturales y capitales, principalmente dentro de Europa (ya sean destinos nacionales o internacionales cercanos). Buscan experiencias urbanas, historia y cultura.\n",
      "    *   **Temporada:** Flexibles, viajan tanto en primavera como en verano, lo que les permite disfrutar del buen clima para explorar ciudades.\n",
      "    *   **Presupuesto:** Medio a medio-alto. Están dispuestos a invertir en alojamiento, gastronomía y actividades en ciudades importantes.\n",
      "    *   **Tipo de Viaje:** Múltiples destinos en la misma región o viajes cortos y frecuentes a ciudades.\n",
      "\n",
      "---\n",
      "\n",
      "### **Grupo 3: El Aventurero de Larga Distancia / Viajero de Alto Valor Cultural**\n",
      "\n",
      "*   **Usuario:** Carlos\n",
      "*   **Características:**\n",
      "    *   **Destinos:** Opta por destinos internacionales de larga distancia y culturalmente ricos, a menudo en continentes lejanos. Busca experiencias únicas y exóticas.\n",
      "    *   **Temporada:** Viaja en otoño, posiblemente para evitar las aglomeraciones de temporada alta o para experimentar un clima específico en esos destinos.\n",
      "    *   **Presupuesto:** Alto. Está dispuesto a invertir significativamente en viajes más complejos, largos y a destinos más costosos.\n",
      "    *   **Tipo de Viaje:** Múltiples ciudades o países en un mismo viaje de larga duración, buscando inmersión cultural profunda.\n"
     ]
    }
   ],
   "source": [
    "# Prompt base\n",
    "prompt_1 = f\"\"\"\n",
    "Segmenta los siguientes usuarios en grupos según sus hábitos de viaje. Indica las características de cada grupo:\n",
    "{usuarios.to_dict(orient='records')}\n",
    "\"\"\"\n",
    "\n",
    "respuesta_1 = consulta_gemini(prompt_1)\n",
    "print(respuesta_1)"
   ]
  },
  {
   "cell_type": "code",
   "execution_count": 5,
   "id": "00f6626a-7cae-47f2-bf74-feaa5413a8d1",
   "metadata": {
    "collapsed": true,
    "jupyter": {
     "outputs_hidden": true
    },
    "scrolled": true
   },
   "outputs": [
    {
     "name": "stdout",
     "output_type": "stream",
     "text": [
      "Aquí están las recomendaciones de destinos para cada usuario, alineadas con sus preferencias:\n",
      "\n",
      "---\n",
      "\n",
      "**1. Ana**\n",
      "*   **Destino recomendado:** **Lisboa, Portugal**\n",
      "*   **Explicación:** Ana ha disfrutado de Madrid y Barcelona, dos ciudades españolas vibrantes y llenas de cultura, con buena gastronomía y vida nocturna. Lisboa es una elección natural porque comparte muchas de estas características: es una capital europea con una rica historia, arquitectura encantadora (sus barrios antiguos como Alfama o Bairro Alto), una escena culinaria excelente (mariscos, pastéis de nata), y una atmósfera animada. Además, al igual que las ciudades españolas, ofrece un clima agradable en verano y es accesible dentro de su presupuesto, proporcionando una experiencia europea similar pero con un encanto distinto y único, como su famoso Fado y sus tranvías históricos.\n",
      "\n",
      "---\n",
      "\n",
      "**2. Luis**\n",
      "*   **Destino recomendado:** **Punta Cana, República Dominicana**\n",
      "*   **Explicación:** Luis ha visitado Cancún, lo que indica una clara preferencia por destinos de playa, con un enfoque en el relax, el sol y posiblemente resorts con todo incluido. Viaja en invierno, buscando escapar del frío. Punta Cana es un destino que encaja perfectamente con estas preferencias: es famosa por sus extensas playas de arena blanca y aguas turquesas, su amplia oferta de resorts con todo incluido y actividades acuáticas. Ofrece un clima tropical ideal en invierno y un presupuesto amigable, similar a la experiencia que buscaría en Cancún, pero en un nuevo país del Caribe.\n",
      "\n",
      "---\n",
      "\n",
      "**3. Sofía**\n",
      "*   **Destino recomendado:** **Viena, Austria**\n",
      "*   **Explicación:** Sofía ha disfrutado de Roma y París, lo que demuestra su inclinación por las grandes capitales europeas con una rica historia, arte, arquitectura majestuosa y una atmósfera romántica. Viaja en primavera, una temporada ideal para pasear y disfrutar de los monumentos. Viena es una elección excelente porque es una ciudad que emana elegancia imperial y cultural. Ofrece palacios grandiosos (Schönbrunn, Hofburg), museos de clase mundial, una escena musical clásica incomparable, encantadores cafés vieneses y hermosos jardines, todo lo cual resuena con el tipo de experiencia cultural y sofisticada que apreció en Roma y París, y que su presupuesto puede acomodar.\n",
      "\n",
      "---\n",
      "\n",
      "**4. Carlos**\n",
      "*   **Destino recomendado:** **Hong Kong**\n",
      "*   **Explicación:** Carlos ha explorado Tokio y Seúl, lo que sugiere una preferencia por megaciudades asiáticas modernas, dinámicas, con tecnología avanzada, una cultura única, excelente gastronomía callejera y eficiencia en el transporte. Su alto presupuesto le permite destinos con un costo de vida más elevado. Hong Kong es una elección perfecta como próximo destino: es un vibrante centro global que fusiona Oriente y Occidente, con un horizonte icónico, una escena culinaria de renombre mundial (desde mercados callejeros hasta restaurantes con estrellas Michelin), centros comerciales futuristas, y una eficiente red de transporte. Ofrece una experiencia urbana emocionante y culturalmente rica que complementa sus viajes anteriores a las capitales de Japón y Corea del Sur.\n"
     ]
    }
   ],
   "source": [
    "# Prompt con recomendaciones\n",
    "prompt_2 = f\"\"\"\n",
    "Para cada uno de los siguientes usuarios, recomienda un nuevo destino que esté alineado con sus preferencias anteriores:\n",
    "{usuarios.to_dict(orient='records')}\n",
    "Explicá por qué elegiste ese destino para cada usuario.\n",
    "\"\"\"\n",
    "\n",
    "respuesta_2 = consulta_gemini(prompt_2)\n",
    "print(respuesta_2)"
   ]
  },
  {
   "cell_type": "code",
   "execution_count": 6,
   "id": "5abcb1de-0602-43ea-b592-2c1267cccfe9",
   "metadata": {
    "scrolled": true
   },
   "outputs": [
    {
     "name": "stdout",
     "output_type": "stream",
     "text": [
      "Aquí están las recomendaciones, siguiendo el mismo formato de análisis:\n",
      "\n",
      "*   **Usuario: Ana**\n",
      "    *   **Análisis:** Ha viajado a grandes ciudades europeas (Madrid, Barcelona), prefiere el verano y tiene un presupuesto moderado ($800). Busca destinos culturales, con buen ambiente y clima cálido.\n",
      "    *   **Recomendación:** Lisboa, Portugal (ambiente europeo y cultural, clima cálido, con un presupuesto similar y buen ambiente como las ciudades españolas).\n",
      "\n",
      "*   **Usuario: Luis**\n",
      "    *   **Análisis:** Ha viajado a Cancún, prefiere el invierno (para escapar del frío) y tiene un presupuesto bajo ($600). Busca destinos de playa, resorts y buen ambiente tropical.\n",
      "    *   **Recomendación:** Punta Cana, República Dominicana (destino de playa con resorts y buen ambiente para escapar del frío invernal, similar a Cancún pero con ofertas atractivas dentro de su presupuesto).\n",
      "\n",
      "*   **Usuario: Sofía**\n",
      "    *   **Análisis:** Ha viajado a ciudades icónicas europeas (Roma, París), prefiere la primavera y tiene un presupuesto alto ($950). Busca destinos con historia, arte, cultura y romance.\n",
      "    *   **Recomendación:** Praga, República Checa (ciudad europea con rica historia, arquitectura impresionante y ambiente cultural/romántico, ideal para la primavera y con un presupuesto adecuado para una experiencia de calidad).\n",
      "\n",
      "*   **Usuario: Carlos**\n",
      "    *   **Análisis:** Ha viajado a megaciudades asiáticas (Tokio, Seúl), prefiere el otoño y tiene un presupuesto muy alto ($1200). Busca destinos modernos, tecnológicamente avanzados, con cultura única y eficiencia.\n",
      "    *   **Recomendación:** Singapur (megaciudad asiática ultramoderna, con una mezcla cultural fascinante, gastronomía excelente y eficiencia, similar al ambiente de Tokio y Seúl, ideal para explorar en otoño).\n"
     ]
    }
   ],
   "source": [
    "# Prompt optimizado con ejemplo (few-shot prompting)\n",
    "prompt_3 = f\"\"\"\n",
    "Ejemplo:\n",
    "Usuario: María, ha viajado a Río y Cancún, prefiere verano y presupuesto bajo → Recomendación: Cartagena (clima cálido, económico, similar a Cancún)\n",
    "\n",
    "Ahora analizá estos usuarios y generá recomendaciones similares:\n",
    "{usuarios.to_dict(orient='records')}\n",
    "\"\"\"\n",
    "\n",
    "respuesta_3 = consulta_gemini(prompt_3)\n",
    "print(respuesta_3)"
   ]
  },
  {
   "cell_type": "code",
   "execution_count": 7,
   "id": "97b39a7c-7173-487e-8ebd-1b56931ac64a",
   "metadata": {},
   "outputs": [
    {
     "name": "stdout",
     "output_type": "stream",
     "text": [
      "Tokens estimados: 366\n",
      "Costo estimado: ~$0.00005 USD\n"
     ]
    }
   ],
   "source": [
    "# Estimación de tokens (aproximada)\n",
    "tokens_estimados = len(prompt_3.split()) + 300  # prompt + output estimado\n",
    "costo_estimado_usd = (tokens_estimados / 1000) * 0.000125  # según precio Gemini\n",
    "\n",
    "print(f\"Tokens estimados: {tokens_estimados}\")\n",
    "print(f\"Costo estimado: ~${costo_estimado_usd:.5f} USD\")"
   ]
  },
  {
   "cell_type": "code",
   "execution_count": null,
   "id": "e19d16d6-99cb-495b-9cc6-77dd60853e31",
   "metadata": {},
   "outputs": [],
   "source": []
  }
 ],
 "metadata": {
  "kernelspec": {
   "display_name": "Python 3 (ipykernel)",
   "language": "python",
   "name": "python3"
  },
  "language_info": {
   "codemirror_mode": {
    "name": "ipython",
    "version": 3
   },
   "file_extension": ".py",
   "mimetype": "text/x-python",
   "name": "python",
   "nbconvert_exporter": "python",
   "pygments_lexer": "ipython3",
   "version": "3.10.18"
  }
 },
 "nbformat": 4,
 "nbformat_minor": 5
}
